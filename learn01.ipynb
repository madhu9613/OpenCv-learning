{
 "cells": [
  {
   "cell_type": "code",
   "execution_count": 1,
   "metadata": {},
   "outputs": [],
   "source": [
    "import cv2\n",
    "import numpy as np\n",
    "import glob"
   ]
  },
  {
   "cell_type": "markdown",
   "metadata": {},
   "source": [
    "read and show image\n",
    "------------\n"
   ]
  },
  {
   "cell_type": "code",
   "execution_count": null,
   "metadata": {},
   "outputs": [
    {
     "name": "stdout",
     "output_type": "stream",
     "text": [
      "598\n",
      "(598, 400, 3)\n",
      "[[100  87  43]\n",
      " [100  87  43]\n",
      " [100  87  43]\n",
      " ...\n",
      " [ 79 148 218]\n",
      " [ 79 148 218]\n",
      " [ 78 147 217]]\n"
     ]
    }
   ],
   "source": [
    "img1=cv2.imread(\"img/img1.jpeg\") \n",
    "# read the image \n",
    "img2=cv2.imread(\"img/img2.jpeg\")\n",
    "#resize image\n",
    "re_img01=cv2.resize(img1,(500,800))\n",
    "# cv2.imshow(\"madhu\",img1)\n",
    "cv2.imshow(\"madhu2\",img2)\n",
    "cv2.imshow(\"madhu3\",re_img01)\n",
    "print(len(img1))\n",
    "print(img1.shape)\n",
    "print(img1)\n",
    "print(img1[0])\n",
    "\n",
    "cv2.waitKey(5000) #if we pwwwress any key then only it will close the window otherwise we need to pass time which is in milisecond\n",
    "cv2.destroyAllWindows()\n",
    "\n"
   ]
  },
  {
   "cell_type": "markdown",
   "metadata": {},
   "source": [
    "USING NUMPY ALSO TO WORK ON IMAGES ....img also return a arrey as rgb value"
   ]
  },
  {
   "cell_type": "code",
   "execution_count": 3,
   "metadata": {},
   "outputs": [],
   "source": [
    "img3=cv2.imread(\"img/img1.jpeg\")\n",
    "re_img=cv2.resize(img3,(200,200))\n",
    "# horizontally concetation of two image in a single frame \n",
    "h=np.hstack((re_img,re_img,re_img))\n",
    "v=np.vstack((re_img,re_img,re_img))\n",
    "sq=np.vstack((h,h,h))\n",
    "vq=np.hstack((v,v,v))\n",
    "vq02=np.hstack((h,h,h))\n",
    "cv2.imshow(\"madhu02\",h)\n",
    "cv2.imshow(\"madhu03\",v)\n",
    "cv2.imshow(\"madhu04\",sq)\n",
    "cv2.imshow(\"madhu05\",vq)\n",
    "cv2.imshow(\"madhu06\",vq02)\n",
    "cv2.waitKey(0)\n",
    "cv2.destroyAllWindows()\n",
    "\n"
   ]
  },
  {
   "cell_type": "markdown",
   "metadata": {},
   "source": [
    "lets create a slide show of images \n",
    "----------------------"
   ]
  },
  {
   "cell_type": "code",
   "execution_count": 4,
   "metadata": {},
   "outputs": [
    {
     "name": "stdout",
     "output_type": "stream",
     "text": [
      "['img\\\\d1.jpeg', 'img\\\\d2.jpeg', 'img\\\\h1.jpeg', 'img\\\\h2.jpeg', 'img\\\\img1.jpeg', 'img\\\\img2.jpeg', 'img\\\\img3.jpeg', 'img\\\\img4bw.jpeg', 'img\\\\img5.jpeg', 'img\\\\img6.jpeg']\n"
     ]
    }
   ],
   "source": [
    "# list of images avalilable in img diretory\n",
    "image_list = glob.glob(\"img/**/*.*\", recursive=True)\n",
    "            \n",
    "print(image_list)\n",
    "\n",
    "for img_path in image_list:\n",
    "    image = cv2.imread(img_path)\n",
    "    cv2.imshow(\"Image\", image)\n",
    "    cv2.waitKey(500)  # Display each image for 500ms\n",
    "cv2.destroyAllWindows()"
   ]
  },
  {
   "cell_type": "markdown",
   "metadata": {},
   "source": [
    "channel\n"
   ]
  },
  {
   "cell_type": "code",
   "execution_count": null,
   "metadata": {},
   "outputs": [
    {
     "name": "stdout",
     "output_type": "stream",
     "text": [
      "(600, 400, 3)\n",
      "(600, 400, 3)\n",
      "(600, 400)\n"
     ]
    }
   ],
   "source": [
    "img=cv2.imread(\"img/img6.jpeg\",1) \n",
    "img01=cv2.imread(\"img/img6.jpeg\",-1) \n",
    "img02=cv2.imread(\"img/img6.jpeg\",0) \n",
    "print(img.shape)\n",
    "print(img01.shape)\n",
    "print(img02.shape)\n",
    "cv2.imshow(\"tab01\",img)\n",
    "cv2.imshow(\"tab02\",img01)\n",
    "cv2.imshow(\"tab03\",img02)\n",
    "cv2.waitKey(10)\n",
    "cv2.destroyAllWindows()\n",
    "img=cv2.resize(img,(500,500))"
   ]
  },
  {
   "cell_type": "markdown",
   "metadata": {},
   "source": [
    "WRITE TEXT OVER IMAGE "
   ]
  },
  {
   "cell_type": "code",
   "execution_count": null,
   "metadata": {},
   "outputs": [],
   "source": [
    "import cv2\n",
    "\n",
    "# Read the image\n",
    "img02 = cv2.imread(\"img/img6.jpeg\")\n",
    "\n",
    "# Check if the image is loaded correctly\n",
    "if img02 is None:\n",
    "    print(\"Error: Image not found or cannot be loaded.\")\n",
    "else:\n",
    "    # Add text to the image\n",
    "    txt=cv2.putText(\n",
    "        img02, \"madhujya\", (50, 250),\n",
    "        cv2.FONT_HERSHEY_SCRIPT_COMPLEX, \n",
    "        3, (0, 234, 203), 3, cv2.LINE_AA,\n",
    "    )\n",
    "    txt2=cv2.putText(\n",
    "        img02, \"madhujya\", (50, 260),\n",
    "        cv2.FONT_HERSHEY_SCRIPT_COMPLEX, \n",
    "        3, (30, 124, 103), 3, cv2.LINE_AA,\n",
    "        bottomLeftOrigin=True\n",
    "    )\n",
    "\n",
    "    # Display the image\n",
    "    cv2.imshow(\"tab02\", txt)\n",
    "    cv2.waitKey(10)\n",
    "    cv2.destroyAllWindows()\n"
   ]
  },
  {
   "cell_type": "code",
   "execution_count": null,
   "metadata": {},
   "outputs": [],
   "source": [
    "gray_image = cv2.cvtColor(img3, cv2.COLOR_BGR2GRAY)\n",
    "cv2.imshow(\"Grayscale Image\", gray_image)\n",
    "cv2.imwrite(\"new_image.jpg\", gray_image)\n",
    "\n",
    "cv2.waitKey(10)\n",
    "cv2.destroyAllWindows()\n"
   ]
  },
  {
   "cell_type": "code",
   "execution_count": null,
   "metadata": {},
   "outputs": [],
   "source": [
    "\n",
    "# Create a blank black image\n",
    "image = np.zeros((500, 500, 3), dtype=\"uint8\")\n",
    "\n",
    "# Draw a red line\n",
    "cv2.line(image, (50, 50), (400, 50), (0, 0, 255), 2)\n",
    "\n",
    "# Draw a green rectangle\n",
    "cv2.rectangle(image, (50, 100), (400, 200), (0, 255, 0), 2)\n",
    "\n",
    "# Draw a blue circle\n",
    "cv2.circle(image, (250, 300), 50, (255, 0, 0), -1)\n",
    "\n",
    "# Add text\n",
    "cv2.putText(image, \"OpenCV Shapes\", (100, 450), cv2.FONT_HERSHEY_SIMPLEX, 1, (255, 255, 255), 2)\n",
    "\n",
    "cv2.imshow(\"Shapes\", image)\n",
    "cv2.waitKey(10)\n",
    "cv2.destroyAllWindows()\n"
   ]
  },
  {
   "cell_type": "code",
   "execution_count": null,
   "metadata": {},
   "outputs": [],
   "source": []
  },
  {
   "cell_type": "code",
   "execution_count": null,
   "metadata": {},
   "outputs": [],
   "source": [
    "\n",
    "# Define colors in BGR format\n",
    "blue = np.zeros((500, 500, 3), dtype=\"uint8\")\n",
    "blue[:] = (255, 0, 0)  # Blue color\n",
    "\n",
    "green = np.zeros((500, 500, 3), dtype=\"uint8\")\n",
    "green[:] = (0, 255, 0)  # Green color\n",
    "\n",
    "red = np.zeros((500, 500, 3), dtype=\"uint8\")\n",
    "red[:] = (0, 0, 255)  # Red color\n",
    "\n",
    "yellow = np.zeros((500, 500, 3), dtype=\"uint8\")\n",
    "yellow[:] = (0, 255, 255)  # Yellow color\n",
    "\n",
    "cyan = np.zeros((500, 500, 3), dtype=\"uint8\")\n",
    "cyan[:] = (255, 255, 0)  # Cyan color\n",
    "\n",
    "magenta = np.zeros((500, 500, 3), dtype=\"uint8\")\n",
    "magenta[:] = (255, 0, 255)  # Magenta color\n",
    "\n",
    "# Show images one by one\n",
    "cv2.imshow(\"Blue\", blue)\n",
    "cv2.imshow(\"Green\", green)\n",
    "cv2.imshow(\"Red\", red)\n",
    "cv2.imshow(\"Yellow\", yellow)\n",
    "cv2.imshow(\"Cyan\", cyan)\n",
    "cv2.imshow(\"Magenta\", magenta)\n",
    "\n",
    "cv2.waitKey(10)\n",
    "cv2.destroyAllWindows()\n"
   ]
  },
  {
   "cell_type": "code",
   "execution_count": null,
   "metadata": {},
   "outputs": [],
   "source": [
    "gradient = np.zeros((500, 500, 3), dtype=\"uint8\")\n",
    "\n",
    "for i in range(500):\n",
    "    gradient[:, i] = (i // 2, i // 2, 255 - i // 2)  # Creating a gradient effect\n",
    "\n",
    "cv2.imshow(\"Gradient\", gradient)\n",
    "cv2.waitKey(10)\n",
    "cv2.destroyAllWindows()\n"
   ]
  },
  {
   "cell_type": "code",
   "execution_count": null,
   "metadata": {},
   "outputs": [],
   "source": [
    "palette = np.zeros((300, 900, 3), dtype=\"uint8\")\n",
    "\n",
    "# Divide into three sections for RGB\n",
    "palette[:, 0:300] = (255, 0, 0)  # blue\n",
    "palette[:, 300:600] = (0, 255, 0)  # Green\n",
    "palette[:, 600:900] = (0, 0, 255)  # red\n",
    "\n",
    "cv2.imshow(\"RGB Palette\", palette)\n",
    "cv2.waitKey(10)\n",
    "cv2.destroyAllWindows()\n"
   ]
  },
  {
   "cell_type": "code",
   "execution_count": null,
   "metadata": {},
   "outputs": [],
   "source": [
    "import cv2\n",
    "import numpy as np\n",
    "\n",
    "\n",
    "\n",
    "# Load image in grayscale\n",
    "image = cv2.imread(\"img/img3.jpeg\", cv2.IMREAD_GRAYSCALE)\n",
    "\n",
    "# Convert to binary image using thresholding\n",
    "_, binary = cv2.threshold(image, 127, 255, cv2.THRESH_BINARY)\n",
    "\n",
    "# Find contours\n",
    "contours, hierarchy = cv2.findContours(binary, cv2.RETR_TREE, cv2.CHAIN_APPROX_SIMPLE)\n",
    "\n",
    "# Draw contours on a blank image\n",
    "result = np.zeros((image.shape[0], image.shape[1], 3), dtype=np.uint8)\n",
    "result[:] = (60, 123, 10)\n",
    "cv2.drawContours(result, contours, -1, (0, 255, 0), 2)\n",
    "\n",
    "# Display the image\n",
    "cv2.imshow(\"Contours\", result)\n",
    "cv2.waitKey(10)\n",
    "cv2.destroyAllWindows()\n"
   ]
  },
  {
   "cell_type": "code",
   "execution_count": null,
   "metadata": {},
   "outputs": [],
   "source": [
    "import cv2\n",
    "import numpy as np\n",
    "\n",
    "# Load main image and template in grayscale\n",
    "image = cv2.imread(\"cartoon.jpg\", cv2.IMREAD_GRAYSCALE)\n",
    "template = cv2.imread(\"cartoon.jpg\", cv2.IMREAD_GRAYSCALE)\n",
    "\n",
    "# Get width and height of the template\n",
    "h, w = template.shape\n",
    "\n",
    "# Perform template matching\n",
    "result = cv2.matchTemplate(image, template, cv2.TM_CCOEFF_NORMED)\n",
    "\n",
    "# Get the best match location\n",
    "min_val, max_val, min_loc, max_loc = cv2.minMaxLoc(result)\n",
    "\n",
    "# Top-left corner of matched region\n",
    "top_left = max_loc  \n",
    "\n",
    "# Bottom-right corner\n",
    "bottom_right = (top_left[0] + w, top_left[1] + h)\n",
    "\n",
    "# Draw a rectangle around the detected area\n",
    "cv2.rectangle(image, top_left, bottom_right, (255, 250, 250), 2)\n",
    "\n",
    "# Show the result\n",
    "cv2.imshow(\"Detected\", image)\n",
    "cv2.waitKey(10)\n",
    "cv2.destroyAllWindows()\n"
   ]
  },
  {
   "cell_type": "code",
   "execution_count": null,
   "metadata": {},
   "outputs": [],
   "source": [
    "import cv2\n",
    "import numpy as np\n",
    "\n",
    "# Load the image\n",
    "image = cv2.imread(\"img/img2.jpeg\", cv2.IMREAD_GRAYSCALE)\n",
    "\n",
    "# Apply Canny edge detection\n",
    "edges = cv2.Canny(image, 100, 200)\n",
    "\n",
    "# Show the result\n",
    "cv2.imshow(\"Canny Edge Detection\", edges)\n",
    "cv2.waitKey(10)\n",
    "cv2.destroyAllWindows()\n"
   ]
  },
  {
   "cell_type": "code",
   "execution_count": null,
   "metadata": {},
   "outputs": [
    {
     "name": "stdout",
     "output_type": "stream",
     "text": [
      "Number of objects detected: 4268\n"
     ]
    }
   ],
   "source": [
    "import cv2\n",
    "import numpy as np\n",
    "\n",
    "# Load the image\n",
    "image = cv2.imread(\"img/img5.jpeg\")\n",
    "\n",
    "# Convert to grayscale\n",
    "gray = cv2.cvtColor(image, cv2.COLOR_BGR2GRAY)\n",
    "\n",
    "# Apply thresholding (convert image to binary)\n",
    "_, binary = cv2.threshold(gray, 150, 255, cv2.THRESH_BINARY_INV)\n",
    "edges = cv2.Canny(image, 100, 200)\n",
    "# Find contours\n",
    "contours, hierarchy = cv2.findContours(edges, cv2.RETR_TREE, cv2.CHAIN_APPROX_SIMPLE)\n",
    "\n",
    "# Draw contours on the original image\n",
    "cv2.drawContours(image, contours, -1, (0, 255, 0), 2)\n",
    "\n",
    "# Display the number of objects\n",
    "print(f\"Number of objects detected: {len(contours)}\")\n",
    "\n",
    "# Show images\n",
    "cv2.imshow(\"Binary Image\", binary)\n",
    "cv2.imshow(\"Contours\", image)\n",
    "cv2.waitKey(10)\n",
    "cv2.destroyAllWindows()\n"
   ]
  },
  {
   "cell_type": "code",
   "execution_count": null,
   "metadata": {},
   "outputs": [],
   "source": [
    "import cv2\n",
    "import numpy as np\n",
    "\n",
    "# Load an image\n",
    "image = cv2.imread(\"img/img3.jpeg\")\n",
    "\n",
    "# Apply Gaussian Blur\n",
    "blurred = cv2.GaussianBlur(image, (5, 5), 0)\n",
    "\n",
    "# Show the images\n",
    "cv2.imshow(\"Original Image\", image)\n",
    "cv2.imshow(\"Gaussian Blurred Image\", blurred)\n",
    "cv2.waitKey(10)\n",
    "cv2.destroyAllWindows()\n"
   ]
  },
  {
   "cell_type": "code",
   "execution_count": null,
   "metadata": {},
   "outputs": [],
   "source": [
    "import cv2\n",
    "import numpy as np\n",
    "\n",
    "# Load an image\n",
    "image = cv2.imread(\"img/img3.jpeg\", 0)\n",
    "_, binary = cv2.threshold(image, 150, 255, cv2.THRESH_BINARY_INV)\n",
    "# Create a 3x3 kernel\n",
    "kernel = np.ones((3, 3), np.uint8)\n",
    "\n",
    "# Apply erosion\n",
    "eroded = cv2.erode(binary, kernel, iterations=1)\n",
    "dilutte=cv2.dilate(binary,kernel, iterations=1)\n",
    "# Show images\n",
    "cv2.imshow(\"Original\", image)\n",
    "cv2.imshow(\"binary\", binary)\n",
    "cv2.imshow(\"Eroded\", eroded)\n",
    "cv2.imshow(\"d\", dilutte)\n",
    "cv2.waitKey(10)\n",
    "cv2.destroyAllWindows()\n"
   ]
  }
 ],
 "metadata": {
  "kernelspec": {
   "display_name": "Python 3",
   "language": "python",
   "name": "python3"
  },
  "language_info": {
   "codemirror_mode": {
    "name": "ipython",
    "version": 3
   },
   "file_extension": ".py",
   "mimetype": "text/x-python",
   "name": "python",
   "nbconvert_exporter": "python",
   "pygments_lexer": "ipython3",
   "version": "3.12.5"
  }
 },
 "nbformat": 4,
 "nbformat_minor": 2
}
